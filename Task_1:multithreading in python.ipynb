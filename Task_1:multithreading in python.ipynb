{
  "nbformat": 4,
  "nbformat_minor": 0,
  "metadata": {
    "colab": {
      "name": "Task 1.ipynb",
      "provenance": [],
      "authorship_tag": "ABX9TyONSFGjbo88VwUY4m63O81k",
      "include_colab_link": true
    },
    "kernelspec": {
      "name": "python3",
      "display_name": "Python 3"
    },
    "language_info": {
      "name": "python"
    }
  },
  "cells": [
    {
      "cell_type": "markdown",
      "metadata": {
        "id": "view-in-github",
        "colab_type": "text"
      },
      "source": [
        "<a href=\"https://colab.research.google.com/github/suhana03/pizzapi/blob/master/Task_1%3Amultithreading%20in%20python.ipynb\" target=\"_parent\"><img src=\"https://colab.research.google.com/assets/colab-badge.svg\" alt=\"Open In Colab\"/></a>"
      ]
    },
    {
      "cell_type": "code",
      "execution_count": null,
      "metadata": {
        "id": "6K1RLhEzcZcB"
      },
      "outputs": [],
      "source": [
        "import time\n",
        "import threading"
      ]
    },
    {
      "cell_type": "code",
      "source": [
        "\n",
        "\n",
        "def calc_square(num):                                 #calculate square\n",
        "    print(\"calculate square of numbers:\")\n",
        "    for n in num:\n",
        "        time.sleep(0.01)\n",
        "        print('square of number:',n*n)\n",
        "def calc_cube(num):                                     #calculate cube\n",
        "    print(\"calculate cube of numbers:\")\n",
        "    for n in num:\n",
        "        time.sleep(0.01)\n",
        "        print('cube of number:',n*n*n)\n",
        "arr=[2,3,6754,4,5]\n",
        "t=time.time()\n",
        "t1=threading.Thread(target=calc_square,args=(arr,))\n",
        "t2=threading.Thread(target=calc_cube,args=(arr,))\n",
        "t1.start()\n",
        "t2.start()\n",
        "t1.join()\n",
        "t2.join()"
      ],
      "metadata": {
        "colab": {
          "base_uri": "https://localhost:8080/"
        },
        "id": "VNW9niuMch5j",
        "outputId": "6d610a0f-a6e4-41e6-ecb1-211b963a5333"
      },
      "execution_count": null,
      "outputs": [
        {
          "output_type": "stream",
          "name": "stdout",
          "text": [
            "calculate square of numbers:\n",
            "calculate cube of numbers:\n",
            "cube of number: 8\n",
            "square of number: 4\n",
            "cube of number: 27\n",
            "square of number: 9\n",
            "cube of number: 308093949064\n",
            "square of number: 45616516\n",
            "cube of number: 64\n",
            "square of number: 16\n",
            "cube of number: 125\n",
            "square of number: 25\n"
          ]
        }
      ]
    }
  ]
}